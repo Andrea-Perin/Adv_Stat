{
 "cells": [
  {
   "cell_type": "markdown",
   "metadata": {},
   "source": [
    "# ADVANCED STATISTICS FOR PHYSICS ANALYSIS"
   ]
  },
  {
   "cell_type": "markdown",
   "metadata": {},
   "source": [
    "## K2 algorithm implementation in R\n",
    "\n",
    "Marco Agnolon, 1205461\n",
    "\n",
    "Andrea Perin, 1206078\n",
    "\n",
    "Carlo Polato, <matricola>\n",
    "\n",
    "Tommaso Tabarelli, <matricola>"
   ]
  },
  {
   "cell_type": "markdown",
   "metadata": {},
   "source": [
    "### Table of contents<a class=\"anchor\" id=\"toc\"></a>\n",
    "\n",
    "\n",
    "* [Theoretical introduction]\n",
    "    - [Bayesian networks](#bn)\n",
    "    - [Computing the structure](#struct)\n",
    "    - [Assumptions for the computation of the structure](#ass)\n",
    "    - [Notation and the basic theorem](#theo)\n",
    "    - [Implications in practice](#imply)\n",
    "    - [The K2 algorithm](#algo)\n",
    "    - [Proposed pseudocode](#pseudo)\n",
    "    \n",
    "* [Code implementation](#code)"
   ]
  },
  {
   "cell_type": "markdown",
   "metadata": {},
   "source": [
    "#### Bayesian networks <a class=\"anchor\" id=\"bn\"></a>\n",
    "\n",
    "Bayesian belief networks are a class of networks which can be used to perform inference on a set of observables. The network structure allows the implementation of dependencies among different observables, so that correlations can become apparent, and the extraction of possible causation mechanisms becomes easier.\n",
    "\n",
    "Bayesian belief networks are computed starting from a dataset $D$, containing a number $m$ of entries, each of them being made up of $n$ features. For each feature pair, a question one may ask is: \"what is the probablity that, given a certain value, $v_{1i}$, of feature $x_1$, feature $x_2$ has the  value $v_{2j}$?\" This may be particularly interesting in the case of a medical database, as to highlight possible dependencies between symptoms.\n",
    "This amounts to calculating the conditional probability\n",
    "$$\n",
    "P(x_2=v_{2j}|x_1=v_{1i}),\n",
    "$$\n",
    "which is what inference is all about: calculating probabilities given a certain degree of prior knowledge. \n",
    "From a more formal point of view, a Bayesian belief network is a pair $B=(B_S,B_P)$ of the two following objects:\n",
    "- a Bayesian belief structure, $B_S$;\n",
    "- a set of conditional probabilities between the various nodes, $B_P$.\n",
    "\n",
    "#### $B_S$\n",
    "A Bayesian belief network structure $B_S$ is a directed acyclic graph (DAG) in which nodes represent domain variables (i.e., the features in the database) and edges between nodes represent probabilistic dependencies between said variables. A variable in a Bayesian belief network may be either discrete or continuous; however, in the following, only the discrete case will be treated."
   ]
  },
  {
   "cell_type": "code",
   "execution_count": 1,
   "metadata": {},
   "outputs": [
    {
     "name": "stderr",
     "output_type": "stream",
     "text": [
      "\n",
      "Attaching package: ‘igraph’\n",
      "\n",
      "The following objects are masked from ‘package:stats’:\n",
      "\n",
      "    decompose, spectrum\n",
      "\n",
      "The following object is masked from ‘package:base’:\n",
      "\n",
      "    union\n",
      "\n"
     ]
    }
   ],
   "source": [
    "#install.packages(\"igraph\")\n",
    "library(\"igraph\")"
   ]
  },
  {
   "cell_type": "code",
   "execution_count": 2,
   "metadata": {},
   "outputs": [
    {
     "data": {
      "image/png": "[encoded data removed]",
      "text/plain": [
       "Plot with title “Structure 2”"
      ]
     },
     "metadata": {},
     "output_type": "display_data"
    }
   ],
   "source": [
    "library(repr)\n",
    "options(repr.plot.width=5, repr.plot.height=5)\n",
    "par(mfrow=c(1,2))\n",
    "g1 <- graph( edges=c(\"x1\",\"x2\", \"x2\",\"x3\") )\n",
    "plot(g1, main=\"Structure 1\",edge.arrow.size=1.75, vertex.color=\"gold\", vertex.size=15, \n",
    "     vertex.frame.color=\"gray\", vertex.label.color=\"black\", \n",
    "     vertex.label.cex=0.8, vertex.label.dist=2)\n",
    "\n",
    "g2 <- graph( edges=c(\"x1\",\"x2\", \"x1\",\"x3\") )\n",
    "plot(g2, main=\"Structure 2\", edge.arrow.size=1.75, vertex.color=\"gold\", vertex.size=15, \n",
    "     vertex.frame.color=\"gray\", vertex.label.color=\"black\", \n",
    "     vertex.label.cex=0.8, vertex.label.dist=2)"
   ]
  },
  {
   "cell_type": "markdown",
   "metadata": {},
   "source": [
    "Above are two examples of two possible structures for a network of $n=3$ features (nodes). In the first graph, the directed structure implies that, **given the knowledge of the value of node $x_2$, node $x_3$ is independent of the value of $x_1$**. This simple example is enough to show that directed acyclic graphs are able to represent conditional dependencies (and also independencies). Obviously, if the value of $x_2$ was not fixed, then $x_3$ would certainly depend on $x_1$."
   ]
  },
  {
   "cell_type": "markdown",
   "metadata": {},
   "source": [
    "#### $B_P$\n",
    "For each node in the belief structure $B_S$, there is a conditional-probability function relating it to its immediate predecessor, which are called its *parents*. Given a node $X_i$, the set of its parents is denoted by $\\pi_i$. The probability of a particular value being assigned to node $x_i$ will then be dependent on the values taken by the set $\\pi_i$ (also called *instantiation*). If a given node $x_i$ has no parents, then a prior probability $P(x_i)$ is defined.\n",
    "\n",
    "$B_P$ is the set of all conditional probabilities that are defined over a Bayesian belief structure $B_S$. Adding a set $B_P$ to a structure $B_S$ yields a proper Bayesian belief network $B$."
   ]
  },
  {
   "cell_type": "markdown",
   "metadata": {},
   "source": [
    "#### $B$\n",
    "A fundamental property of Bayesian belief networks is their ability of representing the probabilities over any discrete sample space, that is, **the probability of any sample point in the sample space can be calculated starting from the probabilitie sin the belief network**. Let $\\{C_1, C_2, ... , C_n\\}$ be the set of the domains of the $n$ features in a Bayesian belief networks; then, denoting by $X_i$ one particular value that node $x_i$ can take (so that $X_i \\in C_i, \\hspace{1em} \\forall i$; this is called an *instantiation*), we have that the probability $P(X_1, X_2, ... , X_n)$ of the instantiation of all the $n$ nodes can be computed starting from the conditional probabilities in the belief network.\n",
    "\n",
    "More specifically, it can be shown that\n",
    "$$\n",
    "P(X_1, X_2, ... , X_n)= \\prod_{i=1}^{n} P(X_i|\\pi_i)\n",
    "$$\n",
    "where $\\pi_i$ represents the instantiation of the parents of node $x_i$. This means that the joint probability of all nodes can be computed as a product of $n$ probabilities. \n",
    "By exhausting all possible instantiations (by trying out all possible combinations of values) we can compute what the joint-probability space looks like.\n",
    "\n",
    "[Back to ToC](#toc)"
   ]
  },
  {
   "cell_type": "markdown",
   "metadata": {},
   "source": [
    "#### Computing the structure<a class=\"anchor\" id=\"struct\"></a>\n",
    "While all of this sounds straightforward enough, a major problem resides in the structure $B_S$ one should employ. That is: given a dataset of $m$ entries and $n$ features, how do we decide the corresponding structure? In the figure above, is Structure 1 more or less probable than Structure 2?\n",
    "\n",
    "Let $D$ be a database of cases, $Z$ be the set of variables represented by $D$ (so that $|Z|=n$ in the notation used before), and $B_{S_i}$ and $B_{S_j}$ be two possible structures containing exactly those variables that are in $Z$. Our concern is to calculate the ratio\n",
    "$$\n",
    "P(B_{S_i}|D)/P(B_{S_i}|D)\n",
    "$$\n",
    "We can write the following\n",
    "\n",
    "$$\n",
    "\\frac{P(B_{S_i}|D)}{P(B_{S_i}|D)} = \\frac{\\frac{P(B_{S_i},D)}{P(D)}}{\\frac{P(B_{S_j},D)}{P(D)}}=\\frac{P(B_{S_i},D)}{P(B_{S_j},D)}\n",
    "$$\n",
    "\n",
    "There exists a method for computing the quantity $P(B_S,D)$ where $B_S$ is an arbitrary belief network structure, given some assumptions.\n",
    "\n",
    "[Back to ToC](#toc)"
   ]
  },
  {
   "cell_type": "markdown",
   "metadata": {},
   "source": [
    "#### Assumptions for the computation of $P(B_S,D)$<a class=\"anchor\" id=\"ass\"></a>\n",
    "There are 4 main assumptions one has to make in order to render the computation feasible:\n",
    "\n",
    "1. **The database variables, which we denote as Z, are discrete;**\n",
    "    * We can calculate the probability of a certain structure $B_S$ and a database $D$ as\n",
    "    $$\n",
    "    P(B_S,D)=\\int_{B_P} P(D|B_S, B_P)f(B_P|B_S)P(B_S) dB_P\n",
    "    $$\n",
    "    where $B_P$ is a vector containing all the possible conditional-probability assignments associated with a particular belief-network $B_S$ (this is a finite-dimensional entity, which is at most $\\frac{n(n-1)}{2}$ elements long), and $f(B_P|B_S)$ is the conditional-probability density function of $B_P$ given $B_S$. The assumption of discrete variables allow us to use the probability mass function $P(D|B_S, B_P)$ instead of the density $f(D|B_S, B_P)$.The integration takes place over all possible value assignments to $B_P$. All of this means we are integrating over all possible belief networks having structure $B_S$.\n",
    "    * As an example, let $B_S$ be Structure 1 above. Then, let $B_P'$ be one particular set (a table) of numeric probability values for a network with Structure 1. Integrating over $B_P$ would equate varying the numbers in the table in all possible ways that are consistent with the axioms of probability. The term $f(B_P|B_S)$ denotes the likelihood of observing the particular set of numerical values $B_P'$ given the Structure 1. Finally, $P(D|B_S, B_P')$ represents the probability of observing the entries in the database, given Structure 1 and the particular set of conditional probabilities. \n",
    "    * The term $P(B_S)$ can be seen as a way of introducing inductive bias in the algorithm, as it denotes a prior distribution over the possible structures. \n",
    "2. **Realizations of the features occur independently, given a belief-network model;**\n",
    "    * This assumption is simply stating that the choice of a model does not impact the actual data distribution. When this holds, we can factorize the term $P(D|B_S, B_P)$ as\n",
    "    $$\n",
    "    P(D|B_S, B_P)=\\prod_{h=1}^{m}P(C_h|B_S,B_P)\n",
    "    $$\n",
    "    so that in the end we get\n",
    "    $$\n",
    "    P(B_S,D)=\\int_{B_P} \\left[ \\prod_{h=1}^{m}P(C_h|B_S,B_P) \\right]f(B_P|B_S)P(B_S) dB_P\n",
    "    $$\n",
    "    where, as in the previous notation, $m$ is the number of entries i the dataset $D$, and $C_h$ denotes the $h$-the entry in the dataset.\n",
    "3. **There are no realizations with missing values;** \n",
    "    * Which is generally not valid for real-world datasets.\n",
    "4. **The density function $f(B_P|B_S)$ in equations above is uniform.**\n",
    "    * This assumption states that, before observing $D$, we are indifferent with respect to the numerical probabilities to associate to structures $B_S$. This simply means that, taking once again Structure 1 as an example, before taking a look at the dataset, $P(x1=v_{1i}|x2=v_{2j})$ is equally likely to be equal to 0.6 or equal to 0.3 (or any other value in the interval [0,1], for that matter).\n",
    "    \n",
    "[Back to ToC](#toc)"
   ]
  },
  {
   "cell_type": "markdown",
   "metadata": {},
   "source": [
    "#### Notation and the basic theorem<a class=\"anchor\" id=\"theo\"></a>\n",
    "\n",
    "We now define some notation that will be used extensively in the following.\n",
    "\n",
    "- the parents of a node $x_i$ are represented by a list (a vector) of variables, which we denote as $\\pi_i$;\n",
    "- the $j$-th unique instantiation of the values of the variables in $\\pi_i$ will be denoted $w_{ij}$; we will say that $w_{ij}$ is a *value* or an *instantiation* of $\\pi_i$;\n",
    "- $r_i$ is the number of unique values that a (discrete!) variable $x_i$ in $Z$ can take;\n",
    "- $q_i$ is the number of unique instantiations of $\\pi_i$;\n",
    "\n",
    "\n",
    "We can now present the following \n",
    "\n",
    "**Theorem**:\n",
    "\n",
    "- Let $Z$ be a set of $n$ discrete variables, where a variable $x_i\\in Z$ has $r_i$ possible distinct value assignments $(v_{i1}, ... , v_{ir_i})$;\n",
    "- Let $D$ be a database of $m$ entries, where each entry contains a value for each one of the $n$ variables in $Z$;\n",
    "- Let $B_S$ denote a belief structure containing just the variables in $Z$; each variable in $Z$ has a set of parents we denote as $\\pi_i$;\n",
    "- Let $W_{ij}$ denote the $j$-th unique instantiation of $\\pi_i$ relative to $D$;\n",
    "- Suppose there are $q_i$ such unique instantiations of $\\pi_i$; \n",
    "- Define $N_{ijk}$ as the number of entries in $D$ in which variable $x_i$ has the value $v_{ik}$ and and $\\pi_i$ is instantiated as $w_{ij}$;\n",
    "- Let then \n",
    "$$\n",
    "N_{ij} = \\sum_{k=1}^{r_i} N_{ijk}.\n",
    "$$\n",
    "**Then:**\n",
    "$$\n",
    "P(B_S,D)=P(B_S) \\prod_{i=1}^{n}\\prod_{j=1}^{q_i} \\frac{(r_i-1)!}{(N_{ij}+r_i-1)!} \\prod_{k=1}^{r_i} N_{ijk}!\n",
    "$$\n",
    "\n",
    "[Back to ToC](#toc)"
   ]
  },
  {
   "cell_type": "markdown",
   "metadata": {},
   "source": [
    "#### Implications in practice<a class=\"anchor\" id=\"imply\"></a>\n",
    "\n",
    "** This theorem provides a way of comparing the probabilities of different structures, and thus, by applying it over all possible structures, we can find the \"best possible structure\" (in terms of probability).**\n",
    "This is certainly nice. However, it can be shown that the number of possible belief structures for a set of $n$ nodes follows the following recursice equation:\n",
    "$$\n",
    "\\begin{cases}\n",
    "f(2)=3,\\\\\n",
    "f(n)=\\sum_{i=1}^n (-1)^{i+1} {n \\choose i} 2^{i(n-i)} f(n-i)\n",
    "\\end{cases}\n",
    "$$\n",
    "which has the following behavior:\n",
    "\n",
    "- $f(2)=3$;\n",
    "- $f(3)=25$;\n",
    "- $f(5)=29000$;\n",
    "- $f(10) \\approx 4.2\\times 10^{18}$.\n",
    "\n",
    "Computing all structures is not feasible. Then we need some heuristic procedure to allow finding the (heuristically) most probable structure."
   ]
  },
  {
   "cell_type": "markdown",
   "metadata": {},
   "source": [
    "#### From exact methods to heuristcs\n",
    "An important assumption from now on is the existence of some *ordering* on the $n$ nodes, such that if node $x_i$ come before node $x_j$ in the ordering, then $x_j$ will not be part of the potential parents of $x_i$. Given this ordering as constraint, there are $2^{n(n-1)/2}$ possible structures left, a number which is still untreatable with exact methods for large values of $n$. Let us then also include another assumption, that is, equal priors on the structures themselves. This results in the following:\n",
    "\n",
    "$$\n",
    "P(B_S,D)=c\\prod_{i=1}^{n}\\prod_{j=1}^{q_i} \\frac{(r_i-1)!}{(N_{ij}+r_i-1)!} \\prod_{k=1}^{r_i} N_{ijk}!\n",
    "$$\n",
    "\n",
    "where $c$ is simply the constant prior probability $P(B_S)$. We want to maximize this equation. To do so, **we only need to find the set of parents for each variable that maximizes the second inner product**:\n",
    "\n",
    "$$\n",
    "\\max_{B_S}{P(B_S,D)}=c\\prod_{i=1}^{n}\\max_{\\pi_i}\\left[\\prod_{j=1}^{q_i} \\frac{(r_i-1)!}{(N_{ij}+r_i-1)!} \\prod_{k=1}^{r_i} N_{ijk}!\\right]\n",
    "$$\n",
    "\n",
    "where the maximization takes place over all possible sets of parents $\\pi_i$ which are consistent with the ordering. This is where the K2 algorithm starts from.\n",
    "\n",
    "[Back to ToC](#toc)"
   ]
  },
  {
   "cell_type": "markdown",
   "metadata": {},
   "source": [
    "#### The K2 algorithm<a class=\"anchor\" id=\"algo\"></a>\n",
    "\n",
    "We can now introduce the K2 algorithm, a heuristic approach that, starting from the maximization above, employs a greedy search.\n",
    "In particular, K2 starts from the assumption that a node has no parents. Then, it incrementally adds those parents whose addition most increases the probability of the resulting structure. This is done by choosing possible parents from those consistent with the ordering. When the addition of no single parent can increase the probability, then no more parents are added, and the algorithm goes on to the next node in the ordering.\n",
    "By introducing the functions\n",
    "\n",
    "$$\n",
    "g(i,\\pi_i)=\\prod_{j=1}^{q_i} \\frac{(r_i-1)!}{(N_{ij}+r_i-1)!}\\prod_{k=1}^{r_i}N_{ijk}!,\n",
    "$$\n",
    "\n",
    "and\n",
    "\n",
    "$$\n",
    "\\text{Pred}(x_i),\n",
    "$$\n",
    "\n",
    "which returns the set of nodes that precede $x_i$ in the node ordering, we can write the K2 algorithm pseudocode as follows:\n",
    "\n",
    "[Back to ToC](#toc)"
   ]
  },
  {
   "cell_type": "markdown",
   "metadata": {},
   "source": [
    "#### Proposed pseudocode<a class=\"anchor\" id=\"pseudo\"></a>\n",
    "\n",
    "\n",
    "`procedure K2`;\n",
    "\n",
    "{**Input**: a set of $n$ nodes, and ordering on the nodes, an upper bound $u$ on the number of parents a node may have, and a database $D$ containing $m$ entries}\n",
    "\n",
    "{**Output**: for each node, the set of its parents}\n",
    "\n",
    "**for** $i:=0$ **to** $n$ **do**:\n",
    "\n",
    "&ensp;&ensp;&ensp;&ensp;$\\pi_i := \\emptyset$;\n",
    "\n",
    "&ensp;&ensp;&ensp;&ensp;$P_{old} := g(i, \\pi_i)$;\n",
    "\n",
    "&ensp;&ensp;&ensp;&ensp;OKToProceed $:=$ `TRUE`;\n",
    "\n",
    "&ensp;&ensp;&ensp;&ensp;**while** OKToProceed & $|\\pi_i|<u$ **do**\n",
    "\n",
    "&ensp;&ensp;&ensp;&ensp;&ensp;&ensp;&ensp;&ensp;let $z$ be the node in $\\{$Pred($x_i$)$\\setminus \\pi_i\\}$ that maximizes $g(i, \\pi_i \\cup \\{z\\})$;\n",
    "\n",
    "&ensp;&ensp;&ensp;&ensp;&ensp;&ensp;&ensp;&ensp;$P_{new} := g(i, \\pi_i \\cup \\{z\\})$;\n",
    "\n",
    "&ensp;&ensp;&ensp;&ensp;&ensp;&ensp;&ensp;&ensp;**if** $P_{new} > P_{old}$ **then**\n",
    "\n",
    "&ensp;&ensp;&ensp;&ensp;&ensp;&ensp;&ensp;&ensp;&ensp;&ensp;&ensp;&ensp;$P_{old} := P_{new}$;\n",
    "\n",
    "&ensp;&ensp;&ensp;&ensp;&ensp;&ensp;&ensp;&ensp;&ensp;&ensp;&ensp;&ensp;$\\pi_i := \\pi_i \\cup \\{z\\}$;\n",
    "\n",
    "&ensp;&ensp;&ensp;&ensp;&ensp;&ensp;&ensp;&ensp;**else** OKToProceed $:=$ `FALSE`; \n",
    "\n",
    "&ensp;&ensp;&ensp;&ensp;**end** $\\{$while$\\}$;\n",
    "\n",
    "&ensp;&ensp;&ensp;&ensp;**write**(`Node:`,$x_i$,`Parents of this node:`,$\\pi_i$);\n",
    "\n",
    "**end**$\\{$for$\\}$;\n",
    "\n",
    "**end**$\\{$K2$\\}$.\n",
    "\n",
    "[Back to ToC](#toc)"
   ]
  },
  {
   "cell_type": "markdown",
   "metadata": {},
   "source": [
    "### CODE IMPLEMENTATION<a class=\"anchor\" id=\"code\"></a>\n",
    "\n",
    "\n",
    "[Back to ToC](#toc)"
   ]
  },
  {
   "cell_type": "code",
   "execution_count": 3,
   "metadata": {},
   "outputs": [
    {
     "data": {
      "text/html": [
       "<table>\n",
       "<caption>A data.frame: 10 × 3</caption>\n",
       "<thead>\n",
       "\t<tr><th scope=col>x1</th><th scope=col>x2</th><th scope=col>x3</th></tr>\n",
       "\t<tr><th scope=col>&lt;dbl&gt;</th><th scope=col>&lt;dbl&gt;</th><th scope=col>&lt;dbl&gt;</th></tr>\n",
       "</thead>\n",
       "<tbody>\n",
       "\t<tr><td>1</td><td>0</td><td>0</td></tr>\n",
       "\t<tr><td>1</td><td>1</td><td>1</td></tr>\n",
       "\t<tr><td>0</td><td>0</td><td>1</td></tr>\n",
       "\t<tr><td>1</td><td>1</td><td>1</td></tr>\n",
       "\t<tr><td>0</td><td>0</td><td>0</td></tr>\n",
       "\t<tr><td>0</td><td>1</td><td>1</td></tr>\n",
       "\t<tr><td>1</td><td>1</td><td>1</td></tr>\n",
       "\t<tr><td>0</td><td>0</td><td>0</td></tr>\n",
       "\t<tr><td>1</td><td>1</td><td>1</td></tr>\n",
       "\t<tr><td>0</td><td>0</td><td>0</td></tr>\n",
       "</tbody>\n",
       "</table>\n"
      ],
      "text/latex": [
       "A data.frame: 10 × 3\n",
       "\\begin{tabular}{r|lll}\n",
       " x1 & x2 & x3\\\\\n",
       " <dbl> & <dbl> & <dbl>\\\\\n",
       "\\hline\n",
       "\t 1 & 0 & 0\\\\\n",
       "\t 1 & 1 & 1\\\\\n",
       "\t 0 & 0 & 1\\\\\n",
       "\t 1 & 1 & 1\\\\\n",
       "\t 0 & 0 & 0\\\\\n",
       "\t 0 & 1 & 1\\\\\n",
       "\t 1 & 1 & 1\\\\\n",
       "\t 0 & 0 & 0\\\\\n",
       "\t 1 & 1 & 1\\\\\n",
       "\t 0 & 0 & 0\\\\\n",
       "\\end{tabular}\n"
      ],
      "text/markdown": [
       "\n",
       "A data.frame: 10 × 3\n",
       "\n",
       "| x1 &lt;dbl&gt; | x2 &lt;dbl&gt; | x3 &lt;dbl&gt; |\n",
       "|---|---|---|\n",
       "| 1 | 0 | 0 |\n",
       "| 1 | 1 | 1 |\n",
       "| 0 | 0 | 1 |\n",
       "| 1 | 1 | 1 |\n",
       "| 0 | 0 | 0 |\n",
       "| 0 | 1 | 1 |\n",
       "| 1 | 1 | 1 |\n",
       "| 0 | 0 | 0 |\n",
       "| 1 | 1 | 1 |\n",
       "| 0 | 0 | 0 |\n",
       "\n"
      ],
      "text/plain": [
       "   x1 x2 x3\n",
       "1  1  0  0 \n",
       "2  1  1  1 \n",
       "3  0  0  1 \n",
       "4  1  1  1 \n",
       "5  0  0  0 \n",
       "6  0  1  1 \n",
       "7  1  1  1 \n",
       "8  0  0  0 \n",
       "9  1  1  1 \n",
       "10 0  0  0 "
      ]
     },
     "metadata": {},
     "output_type": "display_data"
    }
   ],
   "source": [
    "x1 <- c(1,1,0,1,0,0,1,0,1,0)\n",
    "x2 <- c(0,1,0,1,0,1,1,0,1,0)\n",
    "x3 <- c(0,1,1,1,0,1,1,0,1,0)\n",
    "\n",
    "\n",
    "df = data.frame(x1,x2,x3)\n",
    "df"
   ]
  },
  {
   "cell_type": "code",
   "execution_count": 4,
   "metadata": {},
   "outputs": [],
   "source": [
    "n <- ncol(df)\n",
    "u <- 2\n",
    "\n",
    "r <- as.numeric(lengths(lapply(df, unique))) #Number of unique values for each node\n",
    "m <- as.numeric(lapply(df, length))  #Number of entries in the database\n",
    "r.vec <- lapply(df, unique)  #The set of unique values for each node\n",
    "\n",
    "\n",
    "\n",
    "uq_elem=list()\n",
    "\n",
    "for(i in 1:n)\n",
    "{\n",
    "      uq_elem[[i]] <-  unlist(r.vec[i], use.names=F)\n",
    "}"
   ]
  },
  {
   "cell_type": "markdown",
   "metadata": {},
   "source": [
    "### Function $N_{ijk}$"
   ]
  },
  {
   "cell_type": "code",
   "execution_count": 5,
   "metadata": {},
   "outputs": [],
   "source": [
    "N <- function(df, i, j, k, prec, u) {\n",
    "    \n",
    "    \n",
    "    if(j==0){ \n",
    "        count <- length(which(df[,c(i)]==uq_elem[[i]][k]))\n",
    "            }\n",
    "   \n",
    "    if( (length(prec)==1)  &  (j!=0)){ # because for (a in c(0:-1)) would do it twice instead of never\n",
    "        \n",
    "                                                       \n",
    "        count <- length(which(  (df[,c(i)]==uq_elem[[i]][k]) & (df[,c(prec)]==uq_elem[[prec]][j])  ))\n",
    "        \n",
    "\n",
    "        }\n",
    "    \n",
    "        \n",
    "    if((length(prec)>=2) &  (j!=0)){\n",
    "        \n",
    "        size <- length(prec)\n",
    "        \n",
    "        indices <- numeric(size)\n",
    "        \n",
    "        x <- j-1\n",
    "        \n",
    "        for (a in c(0:(size-2)) ){ # in R for loop extreme values are included \n",
    "            indices[size-a]<-(x%%r[prec[size-a]])+1 # the indices from last to second are given by the remainder of the division +1\n",
    "            x<-(x%/%r[prec[size-a]])\n",
    "        }\n",
    "        indices[1] <- x+1 # the first index is given by the result of the last division +1\n",
    "        \n",
    "\n",
    "        \n",
    "        l0 <- which( (df[,c(i)]==uq_elem[[i]][k]) ) \n",
    "        h <- 1\n",
    "        l <- list()\n",
    "\n",
    "        for (node in prec){\n",
    "\n",
    "            l[[h]] <- which( (df[,c(node)]==uq_elem[[node]][indices[h]]) )  \n",
    "\n",
    "            h <- h+1\n",
    "         }\n",
    "        l[[length(l)+1]] <- l0\n",
    "        \n",
    "        count <- length(Reduce(intersect, l)) \n",
    "        }\n",
    "    \n",
    "    \n",
    "    return (count)\n",
    "      \n",
    "}"
   ]
  },
  {
   "cell_type": "markdown",
   "metadata": {},
   "source": [
    "### Function $N_{ij}$"
   ]
  },
  {
   "cell_type": "code",
   "execution_count": 6,
   "metadata": {},
   "outputs": [],
   "source": [
    "N.sum <-function(df, i, j, prec, r, u) {\n",
    "    \n",
    "    c <- 0\n",
    "    \n",
    "    for (k in c(1:r[i])) {\n",
    "         \n",
    "        \n",
    "         c <- c + N(df, i, j, k, prec, u)\n",
    "        \n",
    "        }\n",
    "    \n",
    "    return ( c )\n",
    "    \n",
    "    }"
   ]
  },
  {
   "cell_type": "markdown",
   "metadata": {},
   "source": [
    "### Function $g$"
   ]
  },
  {
   "cell_type": "code",
   "execution_count": 7,
   "metadata": {},
   "outputs": [],
   "source": [
    "product <-function(df, i, j, r, prec, u) {\n",
    "    \n",
    "    prod <- 1\n",
    "    \n",
    "    for (k in c(1:r[i])){\n",
    "            \n",
    "            prod<-prod*factorial(N(df, i, j, k, prec, u))\n",
    "            \n",
    "        }\n",
    "    \n",
    "    return(prod)\n",
    "    }"
   ]
  },
  {
   "cell_type": "code",
   "execution_count": 8,
   "metadata": {},
   "outputs": [],
   "source": [
    "g <-function(df, i, prec, r, u) {\n",
    "    \n",
    "    if (prec[1]==0){\n",
    "\n",
    "        p <-  factorial(r[i]-1)/factorial(N.sum(df, i, 0, prec, r, u)+r[i]-1)*product(df, i, 0, r, prec, u)\n",
    "            \n",
    "    }\n",
    "    \n",
    "    if ((length(prec)==1)  &  (prec[1]!=0)){\n",
    "\n",
    "\n",
    "        \n",
    "        p <- 1\n",
    "        \n",
    "        for (j in c(1:r[prec[1]])){\n",
    "            \n",
    "            p<- p*factorial(r[i]-1)/factorial(N.sum(df, i, j, prec, r, u)+r[i]-1)*product(df, i, j, r, prec, u)\n",
    "            \n",
    "        }\n",
    "        \n",
    "    }\n",
    "    \n",
    "    if((length(prec)>=2) &  (prec[1]!=0)){\n",
    "\n",
    "        size <- length(prec)\n",
    "        \n",
    "        \n",
    "        p <- 1\n",
    "        \n",
    "        for (j in c(1:prod(r[prec])) ){  # that function will do the work\n",
    "        \n",
    "            \n",
    "            p<- p*factorial(r[i]-1)/factorial(N.sum(df, i, j, prec, r, u)+r[i]-1)*product(df, i, j, r, prec, u)\n",
    "           \n",
    "        }\n",
    "        \n",
    "    }\n",
    "    return (p)\n",
    "    }"
   ]
  },
  {
   "cell_type": "markdown",
   "metadata": {},
   "source": [
    "### Powerset function"
   ]
  },
  {
   "cell_type": "code",
   "execution_count": 9,
   "metadata": {},
   "outputs": [],
   "source": [
    "powerset <- function(set, u) { \n",
    "    set<- set[set>0]\n",
    "    \n",
    "    len <- length(set)\n",
    "    masks <- 2^(1:len-1)\n",
    "    pow <-lapply( 1:2^len-1, function(x) set[ bitwAnd(x, masks) != 0 ] )\n",
    "                 \n",
    "    array<-list()         \n",
    "    for (i in c(1:length(pow))){\n",
    "        if ( (length(pow[[i]])>0) & (length(pow[[i]])<=u) ){\n",
    "            array[i] <- pow[i]\n",
    "        }\n",
    "       \n",
    "        \n",
    "    }\n",
    "                 \n",
    "    array <- array[-which(sapply(array, is.null))]\n",
    "    return(array)\n",
    "}"
   ]
  },
  {
   "cell_type": "code",
   "execution_count": 10,
   "metadata": {},
   "outputs": [
    {
     "name": "stdout",
     "output_type": "stream",
     "text": [
      "\n",
      "node 1  parent of node 2\n",
      "node 2  parent of node 3\n"
     ]
    }
   ],
   "source": [
    "edges<-NULL\n",
    "for (i in c(1:n)){\n",
    "    \n",
    "    prec <- 0\n",
    "    P.old <- g(df, i, prec, r, u)\n",
    "    \n",
    "    OKtoProceed <- T\n",
    "    \n",
    "    if (i==1){\n",
    "        OKtoProceed <- F    #Checking if there are any potential parents; if not, the cycle is not entered\n",
    "        }\n",
    "\n",
    "    while ((OKtoProceed)){\n",
    "        for (prec in powerset( c(1:(i-1))[], u )){\n",
    "            \n",
    "            P.new <- g(df, i, prec, r, u)\n",
    "            \n",
    "            if (P.new > P.old){\n",
    "                P.old <- P.new    \n",
    "                x <- prec\n",
    "                \n",
    "            }\n",
    "        }   \n",
    "        cat('node', x ,'parent of node', i)\n",
    "        edges<-c(edges, x)\n",
    "        edges<-c(edges, i)\n",
    "        OKtoProceed <- F\n",
    "        \n",
    "    }\n",
    "    cat('\\n')\n",
    "    \n",
    "}"
   ]
  },
  {
   "cell_type": "code",
   "execution_count": 14,
   "metadata": {},
   "outputs": [
    {
     "data": {
      "image/png": "[encoded data removed]",
      "text/plain": [
       "Plot with title “Proposed structure”"
      ]
     },
     "metadata": {},
     "output_type": "display_data"
    }
   ],
   "source": [
    "g1 <- graph( edges )\n",
    "plot(g1, main=\"Proposed structure\",edge.arrow.size=1.75, vertex.color=\"gold\", vertex.size=15, \n",
    "     vertex.frame.color=\"black\", vertex.label.color=\"black\", \n",
    "     vertex.label.cex=1, vertex.label.dist=0)"
   ]
  }
 ],
 "metadata": {
  "kernelspec": {
   "display_name": "R",
   "language": "R",
   "name": "ir"
  },
  "language_info": {
   "codemirror_mode": "r",
   "file_extension": ".r",
   "mimetype": "text/x-r-source",
   "name": "R",
   "pygments_lexer": "r",
   "version": "3.4.4"
  }
 },
 "nbformat": 4,
 "nbformat_minor": 2
}
