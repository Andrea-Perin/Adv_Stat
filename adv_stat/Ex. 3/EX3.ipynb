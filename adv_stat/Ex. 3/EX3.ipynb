{
 "cells": [
  {
   "cell_type": "markdown",
   "metadata": {},
   "source": [
    "# EX 3"
   ]
  },
  {
   "cell_type": "markdown",
   "metadata": {},
   "source": [
    "### EX 1"
   ]
  },
  {
   "cell_type": "markdown",
   "metadata": {},
   "source": [
    "The time it takes a student to complete a TOLC-I, University orientation and evaluation test follows a density function of the form\n",
    "\n",
    "$$\n",
    "f(X) =\n",
    "\\begin{cases}\n",
    "c(t-1)(2-t), \\quad & 1 < t < 2\\\\\n",
    "0 \\quad &\\text{otherwise}\n",
    "\\end{cases}\n",
    "$$\n",
    "\n",
    "where $t$ is the time in hours."
   ]
  },
  {
   "cell_type": "markdown",
   "metadata": {},
   "source": [
    "###### (a) \n",
    "using the integrate() R function, determine the constant $c$ (and verify it analytically)"
   ]
  },
  {
   "cell_type": "code",
   "execution_count": 252,
   "metadata": {},
   "outputs": [
    {
     "data": {
      "text/plain": [
       "0.1666667 with absolute error < 7.1e-05"
      ]
     },
     "metadata": {},
     "output_type": "display_data"
    }
   ],
   "source": [
    "my_density_not_norm <- function(t) {\n",
    "    value <- ifelse(t <= 1 | t >= 2,\n",
    "    0,\n",
    "    (t-1)*(2-t))\n",
    "    return (value)\n",
    "}\n",
    " \n",
    "normalization <- integrate(my_density_not_norm, lower = -Inf, upper=Inf)\n",
    "normalization\n",
    "\n",
    "\n",
    "my_density <- function(t) {\n",
    "    value <- ifelse(t<= 1 | t>=2,\n",
    "    0,\n",
    "    (1/normalization$value)*(t-1)*(2-t))\n",
    "    return (value)\n",
    "}"
   ]
  },
  {
   "cell_type": "markdown",
   "metadata": {},
   "source": [
    "$$ 1 = \\int_{-\\infty}^{\\infty} f(X) dX = c \\int_{1}^{2} (t-1)(2-t) dt = c \\int_{1}^{2} 3t-2-t^2 dt = c \\int_{1}^{2} \\frac{3}{2}t^2-2t-\\frac{1}{3}t^3 dt = \\frac{c}{6} \\rightarrow c=6$$"
   ]
  },
  {
   "cell_type": "markdown",
   "metadata": {},
   "source": [
    "###### (b)\n",
    "write the set of four R functions and plot the pdf and cdf, respectively"
   ]
  },
  {
   "cell_type": "code",
   "execution_count": 253,
   "metadata": {},
   "outputs": [],
   "source": [
    "dmy_pdf <- my_density"
   ]
  },
  {
   "cell_type": "code",
   "execution_count": 254,
   "metadata": {},
   "outputs": [],
   "source": [
    "pmy_pdf <- function(x) {\n",
    "  value <- ifelse(x<1,\n",
    "  0,\n",
    "  ifelse(x<=2,\n",
    "  9*x*x-12*x-2*x*x*x+5,\n",
    "  1))\n",
    "  return (value)\n",
    "}"
   ]
  },
  {
   "cell_type": "markdown",
   "metadata": {},
   "source": [
    "In order to calculate the q/r, the acceptance rejection method will be used.\n",
    "\n",
    "The pdf is defined an nonzero in [1,2]. Its maximum is in $t=1.5$, where $f(t)=\\frac{3}{2}$."
   ]
  },
  {
   "cell_type": "code",
   "execution_count": 255,
   "metadata": {},
   "outputs": [],
   "source": [
    "rmy_pdf <- function(x) {\n",
    "\n",
    "    ################\n",
    "    # CALCULATIONS #\n",
    "    ################     \n",
    "    # setting the limits\n",
    "    a <- 1\n",
    "    b <- 2        \n",
    "    pdf.max <- 1.5\n",
    "    # since the efficiency is not 1 (it is actually 2/3), 10 times the required points are extracted \n",
    "    # just to be sure\n",
    "    n <- 10*x \n",
    "    #drawing the random numbers\n",
    "    u.1 <- runif(n, a, b)\n",
    "    u.2 <- runif(n, 0, 1)\n",
    "    y <- ifelse(u.2 * pdf.max < dmy_pdf(u.1), u.1, NA)\n",
    "    y.clean <- y[!is.na(y)]   \n",
    "    # the function is automatically re-invoked in the case of a failure in creating at least x draws\n",
    "    #otherwise it is returned\n",
    "    ifelse(length(y.clean)<x, rmy_pdf(x), out<-y.clean[1:x])\n",
    "    return (out)\n",
    "}"
   ]
  },
  {
   "cell_type": "code",
   "execution_count": 256,
   "metadata": {},
   "outputs": [],
   "source": [
    "find.index <- function(x){\n",
    "    return (which.min(x>values)-1)\n",
    "}\n",
    "\n",
    "helper_func1 <- function(x){   \n",
    "        a<-1\n",
    "        values <- pmy_pdf(seq(1,2,0.0001)) #computes the values of the cdf with steps of 0.0001 \n",
    "        indexes <- which.min(x>values)-1\n",
    "        return (a+indexes*0.0001)\n",
    "}\n",
    "\n",
    "qmy_pdf <- function(x){\n",
    "    ifelse(all(0<=x&x<=1),\n",
    "           \n",
    "        return (sapply(x, helper_func1)),\n",
    "           \n",
    "        \"Error: the quantile must be in [0,1]\")\n",
    "           \n",
    "}"
   ]
  },
  {
   "cell_type": "code",
   "execution_count": 270,
   "metadata": {},
   "outputs": [
    {
     "data": {
      "image/png": "[encoded data removed]",
      "text/plain": [
       "Plot with title \"PDF and CDF\""
      ]
     },
     "metadata": {},
     "output_type": "display_data"
    }
   ],
   "source": [
    "#plotting\n",
    "xs <- seq(0,3,0.001)\n",
    "\n",
    "plot(xs, pmy_pdf(xs), type='l', main=\"PDF and CDF\",\n",
    "    xlab=\"x\", ylab=\"f(x), F(x)\", ylim=c(0,1.8), col = \"red\", lwd=3, lty=2)\n",
    "lines(xs, dmy_pdf(xs), col = \"#ABCDEF\", lwd=3)\n",
    "\n",
    "#adding legend\n",
    "legend(0, 1.5, legend=c(\"pdf: f(x)\", \"cdf: F(x)\"),\n",
    "       col=c(\"#ABCDEF\", \"red\"), lty=1:2, lwd=3, cex=0.8)\n",
    "\n"
   ]
  },
  {
   "cell_type": "markdown",
   "metadata": {},
   "source": [
    "###### (c)\n",
    "evaluate the probability that the student will finish the aptitude test in more than 75 minutes.  And that it will take 90 and 120 minutes."
   ]
  },
  {
   "cell_type": "code",
   "execution_count": 192,
   "metadata": {},
   "outputs": [
    {
     "name": "stdout",
     "output_type": "stream",
     "text": [
      "Prob. of taking more than 75 minutes: 0.84375\n",
      "Prob. of taking between 90 and 120 minutes: 0.5"
     ]
    }
   ],
   "source": [
    "prob_more_than_75_mins <- 1-pmy_pdf(1.25)\n",
    "prob_between_90_120 <- pmy_pdf(2)-pmy_pdf(1.5)\n",
    "cat(\"Prob. of taking more than 75 minutes:\",prob_more_than_75_mins)\n",
    "cat(\"\\n\")\n",
    "cat(\"Prob. of taking between 90 and 120 minutes:\",prob_between_90_120)"
   ]
  },
  {
   "cell_type": "markdown",
   "metadata": {},
   "source": [
    "### EX 2"
   ]
  },
  {
   "cell_type": "markdown",
   "metadata": {},
   "source": [
    "The lifetime of tires sold by an used tires shop is $10^4· X km$, where $x$ is a random variable following the distribution function\n",
    "\n",
    "$$\n",
    "f(X) =\n",
    "\\begin{cases}\n",
    "\\frac{2}{x^2}, \\quad & 1 < x < 2\\\\\n",
    "0 \\quad &\\text{otherwise}\n",
    "\\end{cases}\n",
    "$$"
   ]
  },
  {
   "cell_type": "markdown",
   "metadata": {},
   "source": [
    "###### (a)\n",
    "write the set of four R functions and plot the pdf and cdf, respectively"
   ]
  },
  {
   "cell_type": "code",
   "execution_count": 1,
   "metadata": {},
   "outputs": [
    {
     "data": {
      "text/plain": [
       "1 with absolute error < 7.4e-05"
      ]
     },
     "metadata": {},
     "output_type": "display_data"
    }
   ],
   "source": [
    "#pdf\n",
    "df <- function(x) {\n",
    "    ifelse(1<x&2>x,\n",
    "          return (2/(x*x)),\n",
    "          return (0))\n",
    "}\n",
    "\n",
    "df<- Vectorize(df)\n",
    "\n",
    "normalization <- integrate(Vectorize(df), lower = -Inf, upper=Inf)\n",
    "normalization"
   ]
  },
  {
   "cell_type": "code",
   "execution_count": 289,
   "metadata": {},
   "outputs": [],
   "source": [
    "#cdf\n",
    "pf <- function(x) {\n",
    "    ifelse(x<1,\n",
    "          return (0),\n",
    "          ifelse(x<2,\n",
    "                return (2*(1-1/x)),\n",
    "                return (1)\n",
    "                )\n",
    "          )\n",
    "}\n",
    "pf <- Vectorize(pf)"
   ]
  },
  {
   "cell_type": "code",
   "execution_count": 290,
   "metadata": {},
   "outputs": [],
   "source": [
    "#sampling\n",
    "rf <- function(n) {\n",
    "    a <- 1\n",
    "    b <- 2\n",
    "    f.max <- 2\n",
    "    \n",
    "    x <- 10*n\n",
    "    u1 <- runif(x, a, b)\n",
    "    u2 <- runif(x, 0, f.max)\n",
    "    \n",
    "    y <- ifelse(u2<df(u1), u1, NA)\n",
    "    y.clean <- y[!is.na(y)]\n",
    "    \n",
    "    ifelse(length(y.clean)<n, rf(n), out<-y.clean[1:n])\n",
    "    return (out)\n",
    "}"
   ]
  },
  {
   "cell_type": "code",
   "execution_count": 291,
   "metadata": {},
   "outputs": [],
   "source": [
    "#quantile\n",
    "qf <- function(x) {\n",
    "    \n",
    "    ifelse(all(0<=x&x<=1),\n",
    "           \n",
    "        return (2/(2-x)),\n",
    "           \n",
    "        NA)\n",
    "}\n",
    "qf <- Vectorize(qf)"
   ]
  },
  {
   "cell_type": "code",
   "execution_count": 322,
   "metadata": {},
   "outputs": [
    {
     "data": {
      "image/png": "[encoded data removed]",
      "text/plain": [
       "Plot with title \"PDF and CDF\""
      ]
     },
     "metadata": {},
     "output_type": "display_data"
    }
   ],
   "source": [
    "#plotting\n",
    "xs <- seq(0,3,0.001)\n",
    "\n",
    "plot(xs, pf(xs), type='l', main=\"PDF and CDF\",\n",
    "    xlab=\"x\", ylab=\"f(x), F(x)\", ylim=c(0,2), col = \"red\", lwd=3, lty=2)\n",
    "lines(xs, df(xs), col = \"#ABCDEF\", lwd=3)\n",
    "\n",
    "#prob of a tyre lasting less than 15000 km\n",
    "points(1.5, pf(1.5), col='red', pch = 19)\n",
    "arrows(1.5, 0, y1=pf(1.5), length = 0.15, angle = 10, code = 2, col = 'red')\n",
    "arrows(1.5, pf(1.5), 0, pf(1.5), length = 0.15, angle = 10, code = 2, col = 'red')\n",
    "\n",
    "#adding a tick where the value of the probability is\n",
    "axis(side=2, at=pf(1.5), labels=format(round(pf(1.5), 2)))\n",
    "\n",
    "#adding legend\n",
    "legend(1.45, 2, legend=c(\"pdf: f(x)\", \"cdf: F(x)\", \"Tyres failing in less than 15000 km\"),\n",
    "       col=c(\"#ABCDEF\", \"red\", \"red\"), lty=c(1,2,0), lwd=3, cex=0.8, pch = c(NA, NA, 19))"
   ]
  },
  {
   "cell_type": "markdown",
   "metadata": {},
   "source": [
    "###### (b)\n",
    "determine the probability that tires will last less than 15000 km"
   ]
  },
  {
   "cell_type": "code",
   "execution_count": 297,
   "metadata": {},
   "outputs": [
    {
     "name": "stdout",
     "output_type": "stream",
     "text": [
      "The probability of a tyre lasting less than 15000 km is 0.6666667"
     ]
    }
   ],
   "source": [
    "# the probability that the tyres will last less than 15000 km \n",
    "# is equal to the value of the cdf at 1.5\n",
    "cat(\"The probability of a tyre lasting less than 15000 km is\", pf(1.5))"
   ]
  },
  {
   "cell_type": "markdown",
   "metadata": {},
   "source": [
    "###### (c)\n",
    "sample 3000 random variables from the distribution and determine the mean value and the variance,using the expression \n",
    "$\\text{Var}(X) =E\\left[X^2\\right]−E\\left[X\\right]^2$"
   ]
  },
  {
   "cell_type": "code",
   "execution_count": 334,
   "metadata": {},
   "outputs": [
    {
     "name": "stdout",
     "output_type": "stream",
     "text": [
      "The mean is 1.3906\n",
      "\n",
      "The variance is 0.079"
     ]
    }
   ],
   "source": [
    "N <- 3000\n",
    "samples <- rf(N)\n",
    "\n",
    "mean <- mean(samples)\n",
    "variance <- mean(samples**2)-(mean(samples))**2\n",
    "\n",
    "cat(\"The mean is\",round(mean,4))\n",
    "cat(\"\\n\\nThe variance is\",round(variance,3))"
   ]
  },
  {
   "cell_type": "markdown",
   "metadata": {},
   "source": [
    "### EX 3"
   ]
  },
  {
   "cell_type": "markdown",
   "metadata": {},
   "source": [
    "Markov’s inequality represents an upper boud to probability distributions:\n",
    "$$\n",
    "P(X \\geq k) \\leq \\frac{E[X]}{k} \\quad \\quad \\text{for} \\quad k>0\n",
    "$$\n",
    "Having a dunction defined as\n",
    "$$\n",
    "G(k) = 1-F(k) \\equiv P(X \\geq k)\n",
    "$$\n",
    "plot $G(k)$ and the Markov’s upper bound for:"
   ]
  },
  {
   "cell_type": "markdown",
   "metadata": {},
   "source": [
    "###### (a)\n",
    "the exponential, $\\text{Exp}(\\lambda= 1)$, distribution function"
   ]
  },
  {
   "cell_type": "code",
   "execution_count": 424,
   "metadata": {},
   "outputs": [],
   "source": [
    "G1 <- function(x) {\n",
    "    return(1-pexp(x))\n",
    "}\n",
    "\n",
    "Markov1 <- function(x) {\n",
    "    return(1/x)\n",
    "}"
   ]
  },
  {
   "cell_type": "markdown",
   "metadata": {},
   "source": [
    "###### (b)\n",
    "the uniform, $\\mathcal{U}(3,5)$, distribution function:"
   ]
  },
  {
   "cell_type": "code",
   "execution_count": 425,
   "metadata": {},
   "outputs": [],
   "source": [
    "G2 <- function(x) {\n",
    "    return(1-punif(x,3,5))\n",
    "}\n",
    "\n",
    "Markov2 <- function(x) {\n",
    "    return(4/x)\n",
    "}"
   ]
  },
  {
   "cell_type": "markdown",
   "metadata": {},
   "source": [
    "###### (c)\n",
    "the binomial, $\\mathcal{B}(n=1, p=1/2)$, distribution function:"
   ]
  },
  {
   "cell_type": "code",
   "execution_count": 426,
   "metadata": {},
   "outputs": [],
   "source": [
    "G3 <- function(x) {\n",
    "    return(1-pbinom(x, 1, .5))\n",
    "}\n",
    "\n",
    "Markov3 <- function(x) {\n",
    "    return(1*.5/x)\n",
    "}"
   ]
  },
  {
   "cell_type": "markdown",
   "metadata": {},
   "source": [
    "###### (d)\n",
    "a Poisson, $\\text{Pois}(\\lambda=1/2)$, distribution function:"
   ]
  },
  {
   "cell_type": "code",
   "execution_count": 427,
   "metadata": {},
   "outputs": [],
   "source": [
    "G4 <- function(x) {\n",
    "    return(1-ppois(x, 0.5))\n",
    "}\n",
    "\n",
    "Markov4 <- function(x) {\n",
    "    return(0.5/x)\n",
    "}"
   ]
  },
  {
   "cell_type": "markdown",
   "metadata": {},
   "source": [
    "###### Plot"
   ]
  },
  {
   "cell_type": "code",
   "execution_count": 429,
   "metadata": {},
   "outputs": [
    {
     "data": {
      "image/png": "[encoded data removed]",
      "text/plain": [
       "Plot with title \"Distributions and their Markov bound\""
      ]
     },
     "metadata": {},
     "output_type": "display_data"
    }
   ],
   "source": [
    "xs <- seq(0,6,0.001)\n",
    "\n",
    "plot(xs, G1(xs), type='l', main=\"Distributions and their Markov bound\",\n",
    "    xlab=\"x\", ylab=\"1-F(x)\", ylim=c(0,2), col = \"red\", lwd=3, lty=1)\n",
    "lines(xs, G2(xs), col = \"#ABCDEF\", lwd=3, lty=1)\n",
    "lines(xs, G3(xs), col = \"green\", lwd=3,lty=1)\n",
    "lines(xs, G4(xs), col = \"orange\", lwd=3,lty=1)\n",
    "#bounds\n",
    "lines(xs, Markov1(xs), col = \"red\", lwd=3, lty=3)\n",
    "lines(xs, Markov2(xs), col = \"#ABCDEF\", lwd=3, lty=3)\n",
    "lines(xs, Markov3(xs), col = \"green\", lwd=3,lty=6)\n",
    "lines(xs, Markov4(xs), col = \"orange\", lwd=3,lty=3)\n",
    "\n",
    "grid()\n",
    "\n",
    "#adding legend\n",
    "legend(3.5, 2, legend=c(\"Eponential(l=1)\", \"Uniform(3,5)\", \"Binomial(n=1, p=0.5)\", \"Poisson(l=0.5)\",\n",
    "                        \"Markov Exp. bound\", \"MArkov Unif. bound\", \n",
    "                         \"Markov Binom. bound\", \"Markov Pois. bound\"),\n",
    "       col=c(\"red\", \"#ABCDEF\", \"green\", \"orange\"), lty=c(1,1,1,1,3,3,6,3), lwd=3, cex=0.8)"
   ]
  },
  {
   "cell_type": "markdown",
   "metadata": {},
   "source": [
    "### EX 4"
   ]
  },
  {
   "cell_type": "markdown",
   "metadata": {},
   "source": [
    "Chebyshev’s inequality tells us that\n",
    "$$\n",
    "P\\left( \\left| X - \\mu \\right| \\geq k \\sigma \\right) \\leq \\frac{1}{k^2}\n",
    "$$\n",
    "which can be written as \n",
    "$$\n",
    "P\\left(\\left| \\frac{X-\\mu}{\\sigma}\\right|<k\\right) \\geq 1 - \\frac{1}{k^2}\n",
    "$$\n",
    "use  R  to  show,  with  a  plot,  that  Chebyshev’s  inequality  is an  upper  bound  to  the  following distributions:\n",
    "\n",
    "* a normal distribution, $\\mathcal{N}(\\mu=, \\sigma=5)$;\n",
    "* an exponential distribution, $\\text{Exp}(\\lambda=1)$;\n",
    "* a uniform distribution, $\\mathcal{U}(1-\\sqrt(2), 1+\\sqrt(2))$;\n",
    "* a Poisson distribution, $\\text{Pois}(\\lambda = 1/3)$."
   ]
  },
  {
   "cell_type": "code",
   "execution_count": 430,
   "metadata": {},
   "outputs": [],
   "source": [
    "# mu = 3\n",
    "# sigma = 5\n",
    "normal <- function(x) {\n",
    "    return(pnorm((5*x+3),3,5)-pnorm(3-5*x,3,5))\n",
    "}\n",
    "\n",
    "# mu = 1/lambda\n",
    "# sigma = 1/lambda^2\n",
    "exponential <- function(x) {\n",
    "    return(pexp(1+x)-pexp(1-x))\n",
    "}\n",
    "\n",
    "# mu = 0\n",
    "# sigma = (b^2+a^2-ab)/3\n",
    "uniform <- function(x) {\n",
    "    sigma <- 5/3\n",
    "    return(punif(x*sigma, min=1-2**.5, max=1+2**.5)-punif(-x*sigma, min=1-2**.5, max=1+2**.5))\n",
    "}\n",
    "\n",
    "# mu = 1/lambda\n",
    "# sigma = 1/lambda\n",
    "poisson <- function(x) {\n",
    "    return(ppois(x*3+3,1/3)-ppois(3-x*3,1/3))\n",
    "}\n",
    "\n",
    "#defining the Chebyshev bounds\n",
    "cheb <- function(x) {\n",
    "    return (1-(1/x**2))\n",
    "}"
   ]
  },
  {
   "cell_type": "code",
   "execution_count": 431,
   "metadata": {},
   "outputs": [
    {
     "data": {
      "image/png": "[encoded data removed]",
      "text/plain": [
       "Plot with title \"Distributions and their Chebyshev bound\""
      ]
     },
     "metadata": {},
     "output_type": "display_data"
    }
   ],
   "source": [
    "xs <- seq(0,6,0.001)\n",
    "\n",
    "plot(xs, cheb(xs), type='l', main=\"Distributions and their Chebyshev bound\",\n",
    "    xlab=\"x\", ylab=\"F(|(x-mu)/sigma|)\", ylim=c(0,1), col = \"black\", lwd=3, lty=3)\n",
    "\n",
    "lines(xs, normal(xs), col = \"#ABCDEF\", lwd=3, lty=2)\n",
    "lines(xs, exponential(xs), col = \"green\", lwd=3,lty=2)\n",
    "lines(xs, uniform(xs), col = \"red\", lwd=3,lty=6)\n",
    "lines(xs, poisson(xs), col = \"orange\", lwd=3,lty=2)\n",
    "grid()\n",
    "\n",
    "#adding legend\n",
    "legend(3.5, 0.5, legend=c(\"Chebyshev bound\", \"Normal(3,5)\", \"Exponential(l=1)\", \"Uniform(3,5)\",\n",
    "                        \"Poisson(l=1/3)\"),\n",
    "       col=c(\"black\", \"#ABCDEF\", \"green\", \"red\", \"orange\"), lty=c(3,2,2,6,2), lwd=3, cex=0.8)\n"
   ]
  },
  {
   "cell_type": "code",
   "execution_count": null,
   "metadata": {},
   "outputs": [],
   "source": []
  }
 ],
 "metadata": {
  "kernelspec": {
   "display_name": "R",
   "language": "R",
   "name": "ir"
  },
  "language_info": {
   "codemirror_mode": "r",
   "file_extension": ".r",
   "mimetype": "text/x-r-source",
   "name": "R",
   "pygments_lexer": "r",
   "version": "3.5.1"
  }
 },
 "nbformat": 4,
 "nbformat_minor": 2
}
