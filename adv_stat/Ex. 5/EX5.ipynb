{
 "cells": [
  {
   "cell_type": "markdown",
   "metadata": {},
   "source": [
    "# EX 5"
   ]
  },
  {
   "cell_type": "markdown",
   "metadata": {},
   "source": [
    "### EX 1"
   ]
  },
  {
   "cell_type": "markdown",
   "metadata": {},
   "source": [
    "Using Monte Carlo Methods evaluate the following integral:\n",
    "$$\n",
    "\\int_{\\Omega} \\sin \\sqrt{\\ln (x+y+1)} dx dy\n",
    "$$\n",
    "where\n",
    "$$\n",
    "\\Omega = \\left\\{ (x,y) : \\left( x - \\frac{1}{2} \\right)^2 + \\left( y - \\frac{1}{2} \\right)^2 \\leq \\frac{1}{4} \\right\\}\n",
    "$$"
   ]
  },
  {
   "cell_type": "code",
   "execution_count": 5,
   "metadata": {},
   "outputs": [
    {
     "name": "stdout",
     "output_type": "stream",
     "text": [
      "The value of the integral is -0.2946814"
     ]
    }
   ],
   "source": [
    "# we are inside a circle of radius 1/2\n",
    "# (x,y) are in [-1,0]\n",
    "\n",
    "to_integrate_tilde <- function(x_tilde,y_tilde) {\n",
    "val <- sin(sqrt(log(x_tilde/2+y_tilde/2+2)))\n",
    "return(val)\n",
    "}\n",
    "\n",
    "domain_x <- function(u) {\n",
    "rho <- sqrt(u)\n",
    "return (rho)\n",
    "}\n",
    "\n",
    "domain_y <- function(u) {\n",
    "theta <- u*2*pi\n",
    "return (theta)\n",
    "}\n",
    "\n",
    "\n",
    "hit_or_miss_1 <- function(Num_points){\n",
    "\n",
    "M <- 1 #the maximum value of the function\n",
    "m <- -1 #the minimum value of the function\n",
    "constant <- (pi*(M-m))/Num_points\n",
    "\n",
    "x_vals <- domain_x(runif(Num_points))\n",
    "y_vals <- domain_y(runif(Num_points))\n",
    "comparison <- runif(Num_points, m, M)\n",
    "\n",
    "mask <- to_integrate_tilde(x_vals,y_vals)>=0\n",
    "pos <- sum(ifelse(to_integrate_tilde(x_vals,y_vals)*mask>=comparison*mask, 1, 0))\n",
    "neg <- sum(ifelse(to_integrate_tilde(x_vals,y_vals)*!mask<=comparison*!mask, 1, 0))\n",
    "val <- constant*(pos-neg)\n",
    "return(val)\n",
    "}\n",
    "\n",
    "cat(\"The value of the integral is\",hit_or_miss_1(10000))"
   ]
  },
  {
   "cell_type": "markdown",
   "metadata": {},
   "source": [
    "### EX 2"
   ]
  },
  {
   "cell_type": "markdown",
   "metadata": {},
   "source": [
    "Using Monte Carlo methods, evaluate the volume of the region whose points satisfy the following inequalities:\n",
    "\n",
    "$$\n",
    "\\begin{cases}\n",
    "0\\leq x \\leq 1, \\quad 0\\leq y \\leq 1, \\quad 0\\leq z \\leq 1 \\\\\n",
    "x^2+\\sin y \\leq z\\\\\n",
    "x-z+e^y \\leq 1\n",
    "\\end{cases}\n",
    "$$"
   ]
  },
  {
   "cell_type": "code",
   "execution_count": 6,
   "metadata": {},
   "outputs": [
    {
     "name": "stdout",
     "output_type": "stream",
     "text": [
      "The value of the area is 0.1273"
     ]
    }
   ],
   "source": [
    "check <- function(x,y,z) {\n",
    "val <- ifelse(0<=x & x<=1 & 0<=y & y<=1 & 0<=z & z<=1 & x**2+sin(y)<=z & x-z+exp(y)<=1, 1,0)\n",
    "return(val)\n",
    "}\n",
    "\n",
    "hit_or_miss_2 <- function(Num_points) {\n",
    "u1 <- runif(Num_points)\n",
    "u2 <- runif(Num_points)\n",
    "u3 <- runif(Num_points)\n",
    "val <- sum(check(u1,u2,u3))/Num_points\n",
    "return(val)\n",
    "}\n",
    "\n",
    "cat(\"The value of the area is\",hit_or_miss_2(10000))"
   ]
  },
  {
   "cell_type": "markdown",
   "metadata": {},
   "source": [
    "### EX 3"
   ]
  },
  {
   "cell_type": "markdown",
   "metadata": {},
   "source": [
    "Consider the volume above the cone $z^2=x^2+y^2$ and inside the sphere $x^2+y^2+(z-1)^2=1$. The volume is contained in the box bounded by the inequalities\n",
    "$$\n",
    "-1 \\leq x \\leq 1, \\quad -1 \\leq y \\leq 1, \\quad 0\\leq z \\leq 2\n",
    "$$"
   ]
  },
  {
   "cell_type": "code",
   "execution_count": 7,
   "metadata": {},
   "outputs": [
    {
     "name": "stdout",
     "output_type": "stream",
     "text": [
      "The value of the integral is 3.148"
     ]
    }
   ],
   "source": [
    "check <- function(x,y,z) {\n",
    "ifelse( (x**2+y**2+(z-1)**2<=1 & z>=1) | (z**2>=x**2+y**2 & z<1), 1, 0)\n",
    "}\n",
    "\n",
    "hit_or_miss_3 <- function(N) {\n",
    "volume <- 8\n",
    "xs <- runif(N,-1,1)\n",
    "ys <- runif(N,-1,1)\n",
    "zs <- runif(N, 0,2)\n",
    "res <- sum(check(xs,ys,zs))/N\n",
    "return(res*volume)\n",
    "}\n",
    "\n",
    "cat(\"The value of the integral is\",hit_or_miss_3(10000))"
   ]
  },
  {
   "cell_type": "markdown",
   "metadata": {},
   "source": [
    "### EX 4"
   ]
  },
  {
   "cell_type": "markdown",
   "metadata": {},
   "source": [
    "Using the importance sampling method, evaluate the integral\n",
    "$$\n",
    "\\int_b^\\infty x^{\\alpha-1} e^{-x} dx\n",
    "$$\n",
    "with $\\alpha >1$ and $b>0$.\n",
    "\n",
    "###### (a)\n",
    "one possibility is to use as sampling function $g(x) = e^{−x}$ in the domain $[b,\\infty]$"
   ]
  },
  {
   "cell_type": "code",
   "execution_count": 10,
   "metadata": {},
   "outputs": [
    {
     "name": "stdout",
     "output_type": "stream",
     "text": [
      "The value of the integral is 0.5061826"
     ]
    }
   ],
   "source": [
    "func <- function(x, a) {\n",
    "val <- x**(a-1)*exp(-x)\n",
    "return(val)\n",
    "}\n",
    "\n",
    "bad_func <- function(x, b) {\n",
    "return(exp(-x+b))\n",
    "}\n",
    "\n",
    "bad_sampling <- function(b, N) {\n",
    "val <- b-log(-runif(N)+1)\n",
    "return(val)\n",
    "}\n",
    "\n",
    "with_bad <- function(N, a, b) {\n",
    "points <- bad_sampling(b, N)\n",
    "val <- (1/N)*sum(func(points, a=a)/bad_func(points, b))\n",
    "return(val)\n",
    "}\n",
    "\n",
    "integral_with_bad <- function(N,a,b){\n",
    "ifelse(a<=1 | b<=0,\n",
    "cat(\"Error: alpha must be greater than 1 and b must be greater than 0.\"),\n",
    "with_bad(N,a,b))\n",
    "}\n",
    "\n",
    "alpha <- 1.5\n",
    "b <- 1\n",
    "cat(\"The value of the integral is\",integral_with_bad(10000, alpha, b))"
   ]
  },
  {
   "cell_type": "markdown",
   "metadata": {},
   "source": [
    "###### (b)\n",
    "a more efficient method, especially for large $b$, is to use $g(x) =\\lambda e^{−\\lambda(x−b)}$"
   ]
  },
  {
   "cell_type": "code",
   "execution_count": 11,
   "metadata": {},
   "outputs": [
    {
     "name": "stdout",
     "output_type": "stream",
     "text": [
      "The value of the integral is 0.5072847"
     ]
    }
   ],
   "source": [
    "good_func <- function(x, b, l) {\n",
    "return(l*exp(-l*(x-b)))\n",
    "}\n",
    "\n",
    "good_sampling <- function(N,b,l) {\n",
    "val <- b+(1/l)*log(1/(1-runif(N)))\n",
    "return(val)\n",
    "}\n",
    "\n",
    "with_good <- function(N, a, b, l) {\n",
    "points <- good_sampling(N, b, l)\n",
    "val <- (1/N)*sum(func(points, a=a)/good_func(points, b, l))\n",
    "return(val)\n",
    "}\n",
    "\n",
    "#best value\n",
    "l_star <- function(a,b) {\n",
    "val <- ((b-a)+sqrt((b-a)**2+4*b))/(2*b)\n",
    "return(val)\n",
    "}\n",
    "\n",
    "integral_with_good <- function(N,a,b, l=l_star(a,b)) {\n",
    "ifelse(a<=1 | b<=0,\n",
    "cat(\"Error: alpha must be greater than 1 and b must be greater than 0.\"),\n",
    "with_good(N,a,b,l))\n",
    "}\n",
    "\n",
    "alpha <- 1.5\n",
    "b <- 1\n",
    "cat(\"The value of the integral is\",integral_with_good(10000, alpha, b))"
   ]
  },
  {
   "cell_type": "markdown",
   "metadata": {},
   "source": [
    "### EX 5"
   ]
  },
  {
   "cell_type": "markdown",
   "metadata": {},
   "source": [
    "Using the importance sampling method, evaluate the integral\n",
    "$$\n",
    "\\int_b^\\infty x^{\\alpha-1} e^{-x} dx\n",
    "$$\n",
    "with $\\alpha \\leq 1$ and $b>0$.\n",
    "Hint: use the sampling function $g(x) = e^{−(x−b)}$ in the domain $[b,\\infty]$"
   ]
  },
  {
   "cell_type": "code",
   "execution_count": 12,
   "metadata": {},
   "outputs": [
    {
     "name": "stdout",
     "output_type": "stream",
     "text": [
      "The value of the integral is 0.1258823"
     ]
    }
   ],
   "source": [
    "func <- function(x, a) {\n",
    "val <- x**(a-1)*exp(-x)\n",
    "return(val)\n",
    "}\n",
    "\n",
    "aid_func <- function(x, b) {\n",
    "return(exp(-x+b))\n",
    "}\n",
    "\n",
    "sampling <- function(b, N) {\n",
    "val <- b-log(-runif(N)+1)\n",
    "return(val)\n",
    "}\n",
    "\n",
    "with_aid <- function(N, a, b) {\n",
    "points <- sampling(b, N)\n",
    "val <- (1/N)*sum(func(points, a=a)/aid_func(points, b))\n",
    "return(val)\n",
    "}\n",
    "\n",
    "integral_with_aid <- function(N,a,b){\n",
    "ifelse(a>1 | b<=0,\n",
    "cat(\"Error: alpha must be less or equal than 1 and b must be greater than 0.\"),\n",
    "with_aid(N,a,b))\n",
    "}\n",
    "\n",
    "\n",
    "alpha <- -1.5\n",
    "b <- 1\n",
    "cat(\"The value of the integral is\",integral_with_aid(10000, alpha, b))"
   ]
  }
 ],
 "metadata": {
  "kernelspec": {
   "display_name": "R",
   "language": "R",
   "name": "ir"
  },
  "language_info": {
   "codemirror_mode": "r",
   "file_extension": ".r",
   "mimetype": "text/x-r-source",
   "name": "R",
   "pygments_lexer": "r",
   "version": "3.5.1"
  }
 },
 "nbformat": 4,
 "nbformat_minor": 2
}
